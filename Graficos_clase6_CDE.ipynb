{
  "nbformat": 4,
  "nbformat_minor": 0,
  "metadata": {
    "colab": {
      "provenance": [],
      "authorship_tag": "ABX9TyPWqw7EyBcCe+TdljzL1HdI",
      "include_colab_link": true
    },
    "kernelspec": {
      "name": "python3",
      "display_name": "Python 3"
    },
    "language_info": {
      "name": "python"
    }
  },
  "cells": [
    {
      "cell_type": "markdown",
      "metadata": {
        "id": "view-in-github",
        "colab_type": "text"
      },
      "source": [
        "<a href=\"https://colab.research.google.com/github/mayhuasca2/CDE-LaTeX_clase5_repo1/blob/main/Graficos_clase6_CDE.ipynb\" target=\"_parent\"><img src=\"https://colab.research.google.com/assets/colab-badge.svg\" alt=\"Open In Colab\"/></a>"
      ]
    },
    {
      "cell_type": "markdown",
      "source": [
        "Primera de python"
      ],
      "metadata": {
        "id": "JkBr9dp-iP3n"
      }
    },
    {
      "cell_type": "code",
      "execution_count": 3,
      "metadata": {
        "id": "X7uFU13Yf1SE"
      },
      "outputs": [],
      "source": [
        "# Cargamos módulos para plotear\n",
        "import numpy as np #permite disponerlo en forma matricial\n",
        "import matplotlib.pyplot as plt\n"
      ]
    },
    {
      "cell_type": "code",
      "source": [
        "#Primer gráfico usando Python\n",
        "#defino el dominio de mi funcion (preimagen o variable independiente)\n",
        "x=  np.linspace(-5,15, 120) #tiene 120 puntos equiespaciados\n",
        "\n",
        "#definamos la variable dependeiente (regla de correspondencia)\n",
        "y= np.sin(x**(1/7))\n",
        "\n",
        "#Mostremos el gráfico de la función\n",
        "plt.plot(x,y)\n",
        "plt.show()"
      ],
      "metadata": {
        "colab": {
          "base_uri": "https://localhost:8080/",
          "height": 465
        },
        "id": "pxjicX45kH40",
        "outputId": "cf594d94-29d3-4cef-dd7b-913073d2513f"
      },
      "execution_count": 7,
      "outputs": [
        {
          "output_type": "stream",
          "name": "stderr",
          "text": [
            "<ipython-input-7-726caa04ecc2>:6: RuntimeWarning: invalid value encountered in power\n",
            "  y= np.sin(x**(1/7))\n"
          ]
        },
        {
          "output_type": "display_data",
          "data": {
            "text/plain": [
              "<Figure size 640x480 with 1 Axes>"
            ],
            "image/png": "[encoded data removed]"
          },
          "metadata": {}
        }
      ]
    },
    {
      "cell_type": "markdown",
      "source": [
        "mat plot lib trabajo con gráficos en 2d"
      ],
      "metadata": {
        "id": "0VGRl2D3ldvN"
      }
    },
    {
      "cell_type": "code",
      "source": [
        "#guardamos la imagen del disco duro\n",
        "plt.savefig(fname=\"seno_exp.png\", dpi=300)"
      ],
      "metadata": {
        "colab": {
          "base_uri": "https://localhost:8080/",
          "height": 34
        },
        "id": "NAE7GW7rlhf9",
        "outputId": "553932a8-198e-4210-ecb7-8f3eb787a5e9"
      },
      "execution_count": 6,
      "outputs": [
        {
          "output_type": "display_data",
          "data": {
            "text/plain": [
              "<Figure size 640x480 with 0 Axes>"
            ]
          },
          "metadata": {}
        }
      ]
    },
    {
      "cell_type": "code",
      "source": [
        "#segundo gráfico usando Python\n",
        "#defino el dominio de mi funcion (preimagen o variable independiente)\n",
        "x=  np.linspace(-5,15, 120) #tiene 120 puntos equiespaciados\n",
        "\n",
        "#definamos la variable dependeiente (regla de correspondencia)\n",
        "y= np.sin(x**(1/7))\n",
        "\n",
        "#Mostremos el gráfico de la función\n",
        "plt.plot(x,y)\n",
        "plt.show()"
      ],
      "metadata": {
        "id": "jr2R65XDsZFG"
      },
      "execution_count": null,
      "outputs": []
    }
  ]
}